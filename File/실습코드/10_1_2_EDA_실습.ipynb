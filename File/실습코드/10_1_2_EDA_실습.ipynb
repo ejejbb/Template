{
  "cells": [
    {
      "cell_type": "markdown",
      "metadata": {
        "id": "MIuEvr7CH2JC"
      },
      "source": [
        "# EDA 실습"
      ]
    },
    {
      "cell_type": "code",
      "execution_count": null,
      "metadata": {
        "id": "p9cay6_XH8oM"
      },
      "outputs": [],
      "source": [
        "# 패키지 설치\n",
        "\n",
        "import seaborn as sns\n",
        "import matplotlib.pyplot as plt\n",
        "import pandas as pd\n",
        "sns.set(color_codes=True)\n",
        "%matplotlib inline"
      ]
    },
    {
      "cell_type": "code",
      "execution_count": null,
      "metadata": {
        "id": "cAshyyd5GvBP"
      },
      "outputs": [],
      "source": [
        "# 데이터 불러오기\n",
        "\n",
        "url = \"https://raw.githubusercontent.com/c-karl/DA_DS_Book001/refs/heads/main/datasets/hotel_bookings.csv\"\n",
        "df = pd.read_csv(url)\n",
        "\n",
        "# 데이터 샘플 확인\n",
        "df.head()"
      ]
    },
    {
      "cell_type": "code",
      "execution_count": null,
      "metadata": {
        "id": "EaTay0p2I9UN"
      },
      "outputs": [],
      "source": [
        "# 각 컬럼의 속성 및 결측치 확인\n",
        "df.info()"
      ]
    },
    {
      "cell_type": "code",
      "execution_count": null,
      "metadata": {
        "id": "bUJiEijqK_O0"
      },
      "outputs": [],
      "source": [
        "# 각 컬럼의 통계치 확인\n",
        "df.describe()"
      ]
    },
    {
      "cell_type": "code",
      "execution_count": null,
      "metadata": {
        "id": "UdxcgPrMLZkd"
      },
      "outputs": [],
      "source": [
        "# 각 컬럼의 왜도 확인\n",
        "df.skew(numeric_only=True)"
      ]
    },
    {
      "cell_type": "code",
      "execution_count": null,
      "metadata": {
        "id": "OnNh_c-POefj"
      },
      "outputs": [],
      "source": [
        "# 각 컬럼의 첨도 확인\n",
        "df.kurtosis(numeric_only=True)"
      ]
    },
    {
      "cell_type": "code",
      "execution_count": null,
      "metadata": {
        "id": "JM6DFYs9PD2A"
      },
      "outputs": [],
      "source": [
        "# 특정 변수 분포 시각화\n",
        "sns.displot(df['lead_time'])"
      ]
    },
    {
      "cell_type": "code",
      "execution_count": null,
      "metadata": {
        "id": "Qww84urdPJmG"
      },
      "outputs": [],
      "source": [
        "# 호텔 구분에 따른 lead_time 분포 차이 시각화\n",
        "sns.violinplot(x=\"hotel\", y=\"lead_time\", data=df, inner=None, color=\".8\")\n",
        "sns.stripplot(x=\"hotel\", y=\"lead_time\", data=df, size=1, palette='Set2')"
      ]
    }
  ],
  "metadata": {
    "colab": {
      "private_outputs": true,
      "provenance": []
    },
    "kernelspec": {
      "display_name": "Python 3",
      "name": "python3"
    },
    "language_info": {
      "name": "python"
    }
  },
  "nbformat": 4,
  "nbformat_minor": 0
}
